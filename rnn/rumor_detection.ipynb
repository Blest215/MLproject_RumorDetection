{
 "cells": [
  {
   "cell_type": "markdown",
   "metadata": {},
   "source": [
    "# Rumor Detection Demo"
   ]
  },
  {
   "cell_type": "code",
   "execution_count": 1,
   "metadata": {
    "collapsed": false
   },
   "outputs": [],
   "source": [
    "import numpy as np\n",
    "import tensorflow as tf\n",
    "import helpers ## formatting data, and generate random sequence data\n",
    "\n",
    "tf.reset_default_graph()\n",
    "sess = tf.InteractiveSession()"
   ]
  },
  {
   "cell_type": "code",
   "execution_count": 2,
   "metadata": {
    "collapsed": false
   },
   "outputs": [
    {
     "data": {
      "text/plain": [
       "'1.2.0-rc0'"
      ]
     },
     "execution_count": 2,
     "metadata": {},
     "output_type": "execute_result"
    }
   ],
   "source": [
    "tf.__version__"
   ]
  },
  {
   "cell_type": "code",
   "execution_count": 3,
   "metadata": {
    "collapsed": false
   },
   "outputs": [
    {
     "name": "stdout",
     "output_type": "stream",
     "text": [
      "head of the batch:\n",
      "[6, 4, 6, 0, 7, 4]\n",
      "[5, 7, 2, 6, 5, 7, 9]\n",
      "[9, 7, 4, 2, 3, 0, 1, 8]\n",
      "[5, 1, 2, 2, 6, 3]\n",
      "[5, 8, 1, 4]\n",
      "[9, 3, 7, 1, 3]\n",
      "[0, 6, 1, 5]\n",
      "[1, 2, 7, 7, 8, 4]\n",
      "[6, 8, 1, 7, 0, 5]\n",
      "[5, 2, 6]\n"
     ]
    }
   ],
   "source": [
    "batch_size = 100\n",
    "\n",
    "batches = helpers.random_sequences(length_from=3, length_to=8,\n",
    "                                   vocab_lower=0, vocab_upper=10,\n",
    "                                   batch_size=batch_size)\n",
    "\n",
    "print('head of the batch:')\n",
    "for seq in next(batches)[:10]:\n",
    "    print(seq)"
   ]
  },
  {
   "cell_type": "code",
   "execution_count": 4,
   "metadata": {
    "collapsed": true
   },
   "outputs": [],
   "source": [
    "vocab_size = 10\n",
    "input_embedding_size = 20"
   ]
  },
  {
   "cell_type": "code",
   "execution_count": 5,
   "metadata": {
    "collapsed": false
   },
   "outputs": [],
   "source": [
    "inputs = tf.placeholder(shape=(batch_size, None), dtype=tf.int32, name='inputs')\n",
    "inputs_length = tf.placeholder(shape=(batch_size,), dtype=tf.int32, name='inputs_length')\n",
    "target_inputs = tf.placeholder(shape=(batch_size, None), dtype=tf.int32, name='target_inputs')"
   ]
  },
  {
   "cell_type": "markdown",
   "metadata": {},
   "source": [
    "## Embeddings"
   ]
  },
  {
   "cell_type": "code",
   "execution_count": 6,
   "metadata": {
    "collapsed": true
   },
   "outputs": [],
   "source": [
    "embeddings = tf.Variable(tf.random_uniform([vocab_size, input_embedding_size], -1.0, 1.0), dtype=tf.float32)\n",
    "\n",
    "inputs_embedded = tf.nn.embedding_lookup(embeddings, inputs)"
   ]
  },
  {
   "cell_type": "markdown",
   "metadata": {},
   "source": [
    "## RNN Architecture"
   ]
  },
  {
   "cell_type": "code",
   "execution_count": 7,
   "metadata": {
    "collapsed": false,
    "scrolled": true
   },
   "outputs": [],
   "source": [
    "import tensorflow.contrib.rnn as rnn\n",
    "\n",
    "num_hidden_units = 20\n",
    "num_layers = 3\n",
    "\n",
    "cell = rnn.MultiRNNCell([rnn.ResidualWrapper(rnn.GRUCell(num_hidden_units)) for i in range(num_layers)])\n",
    "\n",
    "# cell = rnn.GRUCell(num_units=20)\n",
    "outputs, final_state = tf.nn.dynamic_rnn(cell,\n",
    "                                         inputs_embedded,\n",
    "                                         inputs_length,\n",
    "                                         cell.zero_state(batch_size, dtype=tf.float32))"
   ]
  },
  {
   "cell_type": "markdown",
   "metadata": {},
   "source": [
    "## Rumor probability"
   ]
  },
  {
   "cell_type": "code",
   "execution_count": 8,
   "metadata": {
    "collapsed": false
   },
   "outputs": [],
   "source": [
    "logits = tf.layers.dense(inputs=final_state[num_layers-1], \n",
    "                         units=2,\n",
    "                         kernel_initializer=tf.contrib.slim.xavier_initializer())\n",
    "\n",
    "prediction = tf.argmax(logits, 1)"
   ]
  },
  {
   "cell_type": "code",
   "execution_count": 9,
   "metadata": {
    "collapsed": false
   },
   "outputs": [],
   "source": [
    "stepwise_cross_entropy = tf.nn.softmax_cross_entropy_with_logits(\n",
    "    labels=tf.one_hot(target_inputs, depth=2, dtype=tf.float32),\n",
    "    logits=logits\n",
    ")\n",
    "\n",
    "#loss function\n",
    "loss = tf.reduce_mean(stepwise_cross_entropy)\n",
    "#train it \n",
    "train_op = tf.train.AdamOptimizer().minimize(loss)"
   ]
  },
  {
   "cell_type": "markdown",
   "metadata": {},
   "source": [
    " * 단순하게 input sequence의 가장 첫번째 값이 5보다 작으면 False (0), 5 이상이면 True (1) 라고 하자.\n",
    " * next_feed function은 input sequence를 3~8사이의 길이로 무작위 0~9 값을 채워 넣는다."
   ]
  },
  {
   "cell_type": "code",
   "execution_count": 10,
   "metadata": {
    "collapsed": false
   },
   "outputs": [],
   "source": [
    "def next_feed():\n",
    "    batch = next(batches)\n",
    "    inputs_, input_lengths_ = helpers.batch(batch)\n",
    "    inputs_ = inputs_.T\n",
    "    target_inputs_, _ = helpers.batch([np.append(sequence, [1]) for sequence in batch])\n",
    "#     helpers.batch([np.append(sequence, [1]) for sequence in batch])\n",
    "#     helpers.batch([np.append(sequence[::-1], [1], axis=0) for sequence in batch])\n",
    "    \n",
    "    \n",
    "    target_inputs_ = map(lambda x: [0] if x<5 else [1], target_inputs_.T[:,0:1])\n",
    "#     print(np.shape(decoder_targets_))\n",
    "    return {\n",
    "        inputs: inputs_,\n",
    "        inputs_length: input_lengths_,\n",
    "        target_inputs: target_inputs_\n",
    "    }"
   ]
  },
  {
   "cell_type": "code",
   "execution_count": 11,
   "metadata": {
    "collapsed": false,
    "scrolled": false
   },
   "outputs": [
    {
     "name": "stdout",
     "output_type": "stream",
     "text": [
      "batch 0\n",
      "  minibatch loss: 0.678828060627\n",
      "  sample 1:\n",
      "    input     > [6 4 8 0 0 0 0 0]\n",
      "    predicted > 0\n",
      "  sample 2:\n",
      "    input     > [7 9 4 2 5 0 0 0]\n",
      "    predicted > 0\n",
      "  sample 3:\n",
      "    input     > [8 4 5 8 6 8 2 3]\n",
      "    predicted > 1\n",
      "()\n",
      "batch 1000\n",
      "  minibatch loss: 0.000183060852578\n",
      "  sample 1:\n",
      "    input     > [5 4 3 0 0 0 0 0]\n",
      "    predicted > 1\n",
      "  sample 2:\n",
      "    input     > [8 9 3 9 0 0 0 0]\n",
      "    predicted > 1\n",
      "  sample 3:\n",
      "    input     > [2 4 0 2 1 6 2 0]\n",
      "    predicted > 0\n",
      "()\n",
      "batch 2000\n",
      "  minibatch loss: 4.81309107272e-05\n",
      "  sample 1:\n",
      "    input     > [9 9 6 2 0 1 4 3]\n",
      "    predicted > 1\n",
      "  sample 2:\n",
      "    input     > [4 0 5 7 2 0 0 0]\n",
      "    predicted > 0\n",
      "  sample 3:\n",
      "    input     > [4 9 5 8 0 0 0 0]\n",
      "    predicted > 0\n",
      "()\n",
      "batch 3000\n",
      "  minibatch loss: 2.01159018616e-05\n",
      "  sample 1:\n",
      "    input     > [1 5 9 4 0 0 0 0]\n",
      "    predicted > 0\n",
      "  sample 2:\n",
      "    input     > [3 9 0 5 4 9 2 0]\n",
      "    predicted > 0\n",
      "  sample 3:\n",
      "    input     > [6 4 1 0 0 0 0 0]\n",
      "    predicted > 1\n",
      "()\n"
     ]
    }
   ],
   "source": [
    "max_batches = 3001\n",
    "batches_in_epoch = 1000\n",
    "sess.run(tf.global_variables_initializer())\n",
    "\n",
    "loss_track = []\n",
    "try:\n",
    "    for batch in range(max_batches):\n",
    "        fd = next_feed()\n",
    "        _, l = sess.run([train_op, loss], fd)\n",
    "        loss_track.append(l)\n",
    "\n",
    "        if batch == 0 or batch % batches_in_epoch == 0:\n",
    "            print('batch {}'.format(batch))\n",
    "            print('  minibatch loss: {}'.format(sess.run(loss, fd)))\n",
    "            predict_ = sess.run(prediction, fd)\n",
    "            for i, (inp, pred) in enumerate(zip(fd[inputs], predict_)):\n",
    "                print('  sample {}:'.format(i + 1))\n",
    "                print('    input     > {}'.format(inp))\n",
    "                print('    predicted > {}'.format(pred))\n",
    "                if i >= 2:\n",
    "                    break\n",
    "            print()\n",
    "\n",
    "except KeyboardInterrupt:\n",
    "    print('training interrupted')"
   ]
  },
  {
   "cell_type": "code",
   "execution_count": 12,
   "metadata": {
    "collapsed": false
   },
   "outputs": [
    {
     "name": "stdout",
     "output_type": "stream",
     "text": [
      "loss 0.0000201374 after 300100 examples (batch_size=100)\n"
     ]
    },
    {
     "data": {
      "image/png": "[encoded data removed]",
      "text/plain": [
       "<matplotlib.figure.Figure at 0x7f0224c0c910>"
      ]
     },
     "metadata": {},
     "output_type": "display_data"
    }
   ],
   "source": [
    "%matplotlib inline\n",
    "import matplotlib.pyplot as plt\n",
    "plt.plot(loss_track)\n",
    "print('loss {:.10f} after {} examples (batch_size={})'.format(loss_track[-1], len(loss_track)*batch_size, batch_size))"
   ]
  }
 ],
 "metadata": {
  "kernelspec": {
   "display_name": "Tensorflow-gpu",
   "language": "python",
   "name": "tensorflow-gpu"
  },
  "language_info": {
   "codemirror_mode": {
    "name": "ipython",
    "version": 2
   },
   "file_extension": ".py",
   "mimetype": "text/x-python",
   "name": "python",
   "nbconvert_exporter": "python",
   "pygments_lexer": "ipython2",
   "version": "2.7.13"
  }
 },
 "nbformat": 4,
 "nbformat_minor": 2
}
