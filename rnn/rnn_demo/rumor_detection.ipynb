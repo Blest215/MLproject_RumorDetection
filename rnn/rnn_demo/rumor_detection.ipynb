{
 "cells": [
  {
   "cell_type": "markdown",
   "metadata": {},
   "source": [
    "# Rumor Detection Demo"
   ]
  },
  {
   "cell_type": "code",
   "execution_count": 1,
   "metadata": {
    "collapsed": false
   },
   "outputs": [],
   "source": [
    "import numpy as np\n",
    "import tensorflow as tf\n",
    "import helpers ## formatting data, and generate random sequence data\n",
    "\n",
    "%matplotlib inline\n",
    "import matplotlib.pyplot as plt\n",
    "\n",
    "tf.reset_default_graph()\n",
    "sess = tf.InteractiveSession()"
   ]
  },
  {
   "cell_type": "code",
   "execution_count": 2,
   "metadata": {
    "collapsed": false
   },
   "outputs": [
    {
     "data": {
      "text/plain": [
       "'1.2.0-rc0'"
      ]
     },
     "execution_count": 2,
     "metadata": {},
     "output_type": "execute_result"
    }
   ],
   "source": [
    "tf.__version__"
   ]
  },
  {
   "cell_type": "code",
   "execution_count": 3,
   "metadata": {
    "collapsed": true
   },
   "outputs": [],
   "source": [
    "batch_size = 100 # minibatch size\n",
    "vocab_size = 10  # vocab size 10 for digits [0, 1, 2, 3, 4, 5, 6, 7, 8, 9]\n",
    "input_embedding_size = 20 # dimension of embedding vector for each digit"
   ]
  },
  {
   "cell_type": "code",
   "execution_count": 4,
   "metadata": {
    "collapsed": false
   },
   "outputs": [],
   "source": [
    "inputs = tf.placeholder(shape=(batch_size, None), dtype=tf.int32, name='inputs')\n",
    "inputs_length = tf.placeholder(shape=(batch_size,), dtype=tf.int32, name='inputs_length')\n",
    "target_inputs = tf.placeholder(shape=(batch_size, None), dtype=tf.int32, name='target_inputs')"
   ]
  },
  {
   "cell_type": "markdown",
   "metadata": {},
   "source": [
    "## Embeddings"
   ]
  },
  {
   "cell_type": "code",
   "execution_count": 5,
   "metadata": {
    "collapsed": true
   },
   "outputs": [],
   "source": [
    "embeddings = tf.Variable(tf.random_uniform([vocab_size, input_embedding_size], -1.0, 1.0), dtype=tf.float32)\n",
    "\n",
    "inputs_embedded = tf.nn.embedding_lookup(embeddings, inputs)"
   ]
  },
  {
   "cell_type": "markdown",
   "metadata": {},
   "source": [
    "## RNN Architecture\n",
    "\n",
    "* RNN에서 주로 쓰이는 cell에는 크게 LSTM과 GRU cell이 있다. [link](http://colah.github.io/posts/2015-08-Understanding-LSTMs)\n",
    "\n",
    " * LSTM  \n",
    "  ![alt text](http://colah.github.io/posts/2015-08-Understanding-LSTMs/img/LSTM3-chain.png \"LSTM\")\n",
    "  \n",
    " * GRU  \n",
    "  ![GRU](http://colah.github.io/posts/2015-08-Understanding-LSTMs/img/LSTM3-var-GRU.png \"GRU\")\n",
    "  \n",
    "* 여기서는 RNN cell중 GRU를 선택하고 다음과 같은 RNN format 중에서 many-to-one 을 선택하여 만든다. [link](http://karpathy.github.io/2015/05/21/rnn-effectiveness/)\n",
    "  ![RNN format](http://karpathy.github.io/assets/rnn/diags.jpeg)\n"
   ]
  },
  {
   "cell_type": "code",
   "execution_count": 6,
   "metadata": {
    "collapsed": false,
    "scrolled": true
   },
   "outputs": [],
   "source": [
    "import tensorflow.contrib.rnn as rnn\n",
    "\n",
    "num_hidden_units = 20\n",
    "num_layers = 3\n",
    "\n",
    "# residual wrapper는 residual connection을 자동으로 생성해주며\n",
    "# MultiRNNCell은 위의 many to one 그림에서 초록색에 해당하는 RNN layer를 여려층으로 쌓게 해주며\n",
    "# 여기서는 num_layer=3 개의 레이어를 쌓았다.\n",
    "cell = rnn.MultiRNNCell([rnn.ResidualWrapper(rnn.GRUCell(num_hidden_units)) for i in range(num_layers)])\n",
    "\n",
    "outputs, final_state = tf.nn.dynamic_rnn(cell,\n",
    "                                         inputs_embedded,\n",
    "                                         inputs_length,\n",
    "                                         cell.zero_state(batch_size, dtype=tf.float32))"
   ]
  },
  {
   "cell_type": "markdown",
   "metadata": {},
   "source": [
    "## Rumor probability"
   ]
  },
  {
   "cell_type": "code",
   "execution_count": 7,
   "metadata": {
    "collapsed": false
   },
   "outputs": [],
   "source": [
    "# 여기서 계산되는 logits이 위의 many to one 그림에서 파란색에 해당하는 output 결과\n",
    "logits = tf.layers.dense(inputs=final_state[num_layers-1], \n",
    "                         units=2,\n",
    "                         kernel_initializer=tf.contrib.slim.xavier_initializer())\n",
    "\n",
    "prediction = tf.argmax(logits, 1)"
   ]
  },
  {
   "cell_type": "code",
   "execution_count": 8,
   "metadata": {
    "collapsed": false
   },
   "outputs": [],
   "source": [
    "# 파란색 레이어의 output unit은 2개며 이 2개 유닛을 가지고 softmax를 취한다음 cross entropy를 계산\n",
    "stepwise_cross_entropy = tf.nn.softmax_cross_entropy_with_logits(\n",
    "    labels=tf.one_hot(target_inputs, depth=2, dtype=tf.float32),\n",
    "    logits=logits\n",
    ")\n",
    "\n",
    "#loss function (averaged cross entropy for batch set)\n",
    "loss = tf.reduce_mean(stepwise_cross_entropy)\n",
    "\n",
    "#train op을 sess에서 호출하면 자동으로 RNN layer들의 variable들이 Gradient descent로 optimize\n",
    "train_op = tf.train.AdamOptimizer().minimize(loss)"
   ]
  },
  {
   "cell_type": "markdown",
   "metadata": {},
   "source": [
    " * 단순하게 input sequence의 가장 첫번째 값이 5보다 작으면 False (0), 5 이상이면 True (1) 라고 하자.\n",
    " * next_feed function은 input sequence를 3~8사이의 길이로 무작위 0~9 값을 채워 넣는다."
   ]
  },
  {
   "cell_type": "code",
   "execution_count": 9,
   "metadata": {
    "collapsed": false
   },
   "outputs": [
    {
     "name": "stdout",
     "output_type": "stream",
     "text": [
      "head of the batch:\n",
      "[3, 7, 7, 1, 2]\n",
      "[4, 1, 7, 7, 0, 6]\n",
      "[7, 6, 2, 6, 9, 7, 4]\n",
      "[3, 2, 9, 0, 5]\n",
      "[7, 3, 4, 7, 7, 7]\n",
      "[6, 7, 0]\n",
      "[0, 4, 4, 7, 2, 9, 4]\n",
      "[4, 1, 3, 3]\n",
      "[3, 1, 2, 2, 3, 8, 9]\n",
      "[8, 0, 7, 9]\n"
     ]
    }
   ],
   "source": [
    "batch_size = 100\n",
    "\n",
    "batches = helpers.random_sequences(length_from=3, length_to=8,\n",
    "                                   vocab_lower=0, vocab_upper=10,\n",
    "                                   batch_size=batch_size)\n",
    "\n",
    "print('head of the batch:')\n",
    "for seq in next(batches)[:10]:\n",
    "    print(seq)"
   ]
  },
  {
   "cell_type": "code",
   "execution_count": 10,
   "metadata": {
    "collapsed": false
   },
   "outputs": [],
   "source": [
    "def next_feed():\n",
    "    batch = next(batches)\n",
    "    inputs_, input_lengths_ = helpers.batch(batch)\n",
    "    inputs_ = inputs_.T\n",
    "    target_inputs_, _ = helpers.batch([np.append(sequence, [1]) for sequence in batch])\n",
    "#     helpers.batch([np.append(sequence, [1]) for sequence in batch])\n",
    "#     helpers.batch([np.append(sequence[::-1], [1], axis=0) for sequence in batch])\n",
    "\n",
    "    target_inputs_ = map(lambda x: [0] if x<5 else [1], target_inputs_.T[:,0:1])\n",
    "\n",
    "    return {\n",
    "        inputs: inputs_,\n",
    "        inputs_length: input_lengths_,\n",
    "        target_inputs: target_inputs_\n",
    "    }"
   ]
  },
  {
   "cell_type": "code",
   "execution_count": 11,
   "metadata": {
    "collapsed": false,
    "scrolled": false
   },
   "outputs": [
    {
     "name": "stdout",
     "output_type": "stream",
     "text": [
      "batch 0\n",
      "  minibatch loss: 0.676617741585\n",
      "  sample 1:\n",
      "    input     > [7 9 8 3 2 0 0 0]\n",
      "    predicted > 1\n",
      "  sample 2:\n",
      "    input     > [8 2 9 9 7 6 0 4]\n",
      "    predicted > 1\n",
      "  sample 3:\n",
      "    input     > [0 7 9 1 7 9 1 9]\n",
      "    predicted > 0\n",
      "()\n",
      "batch 1000\n",
      "  minibatch loss: 0.000149777435581\n",
      "  sample 1:\n",
      "    input     > [3 3 1 0 0 0 0 0]\n",
      "    predicted > 0\n",
      "  sample 2:\n",
      "    input     > [0 6 7 5 2 0 0 0]\n",
      "    predicted > 0\n",
      "  sample 3:\n",
      "    input     > [9 4 3 0 0 0 0 0]\n",
      "    predicted > 1\n",
      "()\n",
      "batch 2000\n",
      "  minibatch loss: 5.94468219788e-05\n",
      "  sample 1:\n",
      "    input     > [7 7 7 0 6 9 0 0]\n",
      "    predicted > 1\n",
      "  sample 2:\n",
      "    input     > [5 8 8 7 0 0 0 0]\n",
      "    predicted > 1\n",
      "  sample 3:\n",
      "    input     > [4 2 7 4 4 1 0 0]\n",
      "    predicted > 0\n",
      "()\n",
      "batch 3000\n",
      "  minibatch loss: 2.13961357076e-05\n",
      "  sample 1:\n",
      "    input     > [3 2 4 1 7 6 0 0]\n",
      "    predicted > 0\n",
      "  sample 2:\n",
      "    input     > [7 2 8 2 2 6 0 0]\n",
      "    predicted > 1\n",
      "  sample 3:\n",
      "    input     > [8 2 4 3 0 0 0 0]\n",
      "    predicted > 1\n",
      "()\n"
     ]
    }
   ],
   "source": [
    "max_batches = 3001\n",
    "batches_in_epoch = 1000\n",
    "sess.run(tf.global_variables_initializer())\n",
    "\n",
    "loss_track = []\n",
    "try:\n",
    "    for batch in range(max_batches):\n",
    "        fd = next_feed()\n",
    "        _, l = sess.run([train_op, loss], fd)\n",
    "        loss_track.append(l)\n",
    "\n",
    "        if batch == 0 or batch % batches_in_epoch == 0:\n",
    "            print('batch {}'.format(batch))\n",
    "            print('  minibatch loss: {}'.format(sess.run(loss, fd)))\n",
    "            predict_ = sess.run(prediction, fd)\n",
    "            for i, (inp, pred) in enumerate(zip(fd[inputs], predict_)):\n",
    "                print('  sample {}:'.format(i + 1))\n",
    "                print('    input     > {}'.format(inp))\n",
    "                print('    predicted > {}'.format(pred))\n",
    "                if i >= 2:\n",
    "                    break\n",
    "            print()\n",
    "\n",
    "except KeyboardInterrupt:\n",
    "    print('training interrupted')"
   ]
  },
  {
   "cell_type": "code",
   "execution_count": 12,
   "metadata": {
    "collapsed": false
   },
   "outputs": [
    {
     "name": "stdout",
     "output_type": "stream",
     "text": [
      "loss 0.0000214116 after 300100 examples (batch_size=100)\n"
     ]
    },
    {
     "data": {
      "image/png": "[encoded data removed]",
      "text/plain": [
       "<matplotlib.figure.Figure at 0x7f6afc1928d0>"
      ]
     },
     "metadata": {},
     "output_type": "display_data"
    }
   ],
   "source": [
    "plt.figure(figsize=(15,10))\n",
    "plt.xlabel(\"time step\", fontsize=20)\n",
    "plt.ylabel(\"loss\", fontsize=20)\n",
    "plt.plot(loss_track)\n",
    "print('loss {:.10f} after {} examples (batch_size={})'.format(loss_track[-1], len(loss_track)*batch_size, batch_size))"
   ]
  }
 ],
 "metadata": {
  "kernelspec": {
   "display_name": "Tensorflow-gpu",
   "language": "python",
   "name": "tensorflow-gpu"
  },
  "language_info": {
   "codemirror_mode": {
    "name": "ipython",
    "version": 2
   },
   "file_extension": ".py",
   "mimetype": "text/x-python",
   "name": "python",
   "nbconvert_exporter": "python",
   "pygments_lexer": "ipython2",
   "version": "2.7.13"
  }
 },
 "nbformat": 4,
 "nbformat_minor": 2
}
